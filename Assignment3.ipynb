{
 "cells": [
  {
   "cell_type": "markdown",
   "metadata": {},
   "source": [
    "# Assignment 3\n",
    "------------------\n",
    "Useful links:\n",
    "- TA's hints: https://docs.google.com/document/d/1xNfSBmw59THZJOnNkt57KTOvgAGZxbqeQYCqN7ZMC58/edit\n",
    "- prob. course: https://www.probabilitycourse.com/chapter11/11_2_5_using_the_law_of_total_probability_with_recursion.php\n",
    "- youtube series about markov chains: https://www.youtube.com/watch?v=uvYTGEZQTEs\n",
    "- assignment description: https://mycourses.aalto.fi/pluginfile.php/1352681/mod_resource/content/3/Assignment_3.pdf\n",
    "\n",
    "## Exercise 1\n",
    "------------------\n",
    "A travelling salesman has carpets in his van. He goes from door to door trying to sell them.\n",
    "Each time he sells one he gets excited and is able to be more convincing and each time he\n",
    "is rejected and cannot close a deal he gets less excited and is less convincing when dealing\n",
    "with the next customer. \n",
    "\n",
    "This salesman was blessed with 10 levels of excitement and each\n",
    "interaction either lifts or decreases his excitement by one level. The probabilities for the\n",
    "salesman to sell a carpet depending on how he feels are {0, 0.1, 0.2, 0.3, … ,0.9}.\n",
    "\n",
    "- Write the state vector and the Markov matrix.\n",
    "- Write an algorithm to simulate this Markov chain. \n",
    "- Compute the average number of carpets the salesman can sale in time t=500 (sales events)\n",
    "  when he leaves home in a bad mood and is at the fourth level (p = 0.3) from the bottom and when he feels ok and starts his trip at the sixth level (p = 0.5). For both cases, plot histograms of sold carpets as a function of t.\n"
   ]
  },
  {
   "cell_type": "code",
   "execution_count": 24,
   "metadata": {},
   "outputs": [
    {
     "name": "stdout",
     "output_type": "stream",
     "text": [
      "The state vector is of from:\n",
      "\n",
      "[0, 1, 2, 3, 4, 5, 6, 7, 8, 9]\n",
      "\n",
      "\n",
      "And the transition matrix is of form:\n",
      "\n",
      "    1.0    0.0    0.0    0.0    0.0    0.0    0.0    0.0    0.0    0.0\n",
      "\n",
      "    0.9    0.0    0.1    0.0    0.0    0.0    0.0    0.0    0.0    0.0\n",
      "\n",
      "    0.0    0.8    0.0    0.2    0.0    0.0    0.0    0.0    0.0    0.0\n",
      "\n",
      "    0.0    0.0    0.7    0.0    0.3    0.0    0.0    0.0    0.0    0.0\n",
      "\n",
      "    0.0    0.0    0.0    0.6    0.0    0.4    0.0    0.0    0.0    0.0\n",
      "\n",
      "    0.0    0.0    0.0    0.0    0.5    0.0    0.5    0.0    0.0    0.0\n",
      "\n",
      "    0.0    0.0    0.0    0.0    0.0    0.4    0.0    0.6    0.0    0.0\n",
      "\n",
      "    0.0    0.0    0.0    0.0    0.0    0.0    0.3    0.0    0.7    0.0\n",
      "\n",
      "    0.0    0.0    0.0    0.0    0.0    0.0    0.0    0.2    0.0    0.8\n",
      "\n",
      "    0.0    0.0    0.0    0.0    0.0    0.0    0.0    0.0    0.1    0.9\n"
     ]
    }
   ],
   "source": [
    "import numpy as np\n",
    "import matplotlib.pyplot as plt\n",
    "\n",
    "# STATE VECTOR AND THE TRANSITION / MARKOV MATRIX\n",
    "\n",
    "# State vector depends of the mood the salesman is in the beginning of the day.\n",
    "\n",
    "state_vector = [0, 1, 2, 3, 4, 5, 6, 7, 8, 9]\n",
    "transition_matrix = [[1.0, 0.0, 0.0, 0.0, 0.0, 0.0, 0.0, 0.0, 0.0, 0.0],\n",
    "                    [0.9, 0.0, 0.1, 0.0, 0.0, 0.0, 0.0, 0.0, 0.0, 0.0],\n",
    "                    [0.0, 0.8, 0.0, 0.2, 0.0, 0.0, 0.0, 0.0, 0.0, 0.0],\n",
    "                    [0.0, 0.0, 0.7, 0.0, 0.3, 0.0, 0.0, 0.0, 0.0, 0.0],\n",
    "                    [0.0, 0.0, 0.0, 0.6, 0.0, 0.4, 0.0, 0.0, 0.0, 0.0],\n",
    "                    [0.0, 0.0, 0.0, 0.0, 0.5, 0.0, 0.5, 0.0, 0.0, 0.0],\n",
    "                    [0.0, 0.0, 0.0, 0.0, 0.0, 0.4, 0.0, 0.6, 0.0, 0.0],\n",
    "                    [0.0, 0.0, 0.0, 0.0, 0.0, 0.0, 0.3, 0.0, 0.7, 0.0],\n",
    "                    [0.0, 0.0, 0.0, 0.0, 0.0, 0.0, 0.0, 0.2, 0.0, 0.8],\n",
    "                    [0.0, 0.0, 0.0, 0.0, 0.0, 0.0, 0.0, 0.0, 0.1, 0.9]]\n",
    "\n",
    "print(\"The state vector is of from:\\n\")\n",
    "print(state_vector)\n",
    "print(\"\\n\\nAnd the transition matrix is of form:\\n\")\n",
    "print('\\n\\n'.join([''.join(['{:7}'.format(item) for item in row]) \n",
    "      for row in transition_matrix]))"
   ]
  },
  {
   "cell_type": "code",
   "execution_count": 25,
   "metadata": {},
   "outputs": [
    {
     "name": "stdout",
     "output_type": "stream",
     "text": [
      "The average number of carpets the salesman can sale in time t = 500 when he leaves home in a bad mood is 26.669.\n",
      "When he leaves home in a good mood, the average number of carpets sold in same amount of time is 170.552.\n",
      "\n",
      "\n"
     ]
    },
    {
     "data": {
      "image/png": "[encoded data removed]",
      "text/plain": [
       "<Figure size 1800x576 with 2 Axes>"
      ]
     },
     "metadata": {
      "needs_background": "light"
     },
     "output_type": "display_data"
    }
   ],
   "source": [
    "# MARKOV CHAIN ALGORITHM\n",
    "\n",
    "# starting state for good day is 5\n",
    "# starting state for bad day is 3\n",
    "\n",
    "seed = 24092020\n",
    "t = 500\n",
    "\n",
    "# The amount of simulations\n",
    "n = 1000\n",
    "\n",
    "# Bad mood starting day simulation\n",
    "simulations_bad = np.zeros((n, 1))\n",
    "\n",
    "for i in range(n):\n",
    "    # bad mood\n",
    "    state = 3\n",
    "    sales = 0\n",
    "    for j in range(t):\n",
    "        if state != 0:\n",
    "            row = transition_matrix[state]\n",
    "            if state == 9:\n",
    "                p_success = row[state]\n",
    "            else:\n",
    "                p_success = row[state + 1]\n",
    "            # sample once from binomial distribution, with success probability based on the current state in the matrix\n",
    "            event = np.random.binomial(1, p_success)\n",
    "            # 1: sale, 0: no sale\n",
    "            if event == 1:\n",
    "                sales += 1\n",
    "                if state != 9:\n",
    "                    state += 1\n",
    "            else:\n",
    "                state -= 1\n",
    "    simulations_bad[i] = sales\n",
    "    \n",
    "# Good mood starting day simulation\n",
    "simulations_good = np.zeros((n, 1))\n",
    "\n",
    "for i in range(n):\n",
    "    # good mood\n",
    "    state = 5\n",
    "    sales = 0\n",
    "    for j in range(t):\n",
    "        if state != 0:\n",
    "            row = transition_matrix[state]\n",
    "            if state == 9:\n",
    "                p_success = row[state]\n",
    "            else:\n",
    "                p_success = row[state + 1]\n",
    "            # sample once from binomial distribution, with success probability\n",
    "            # based on the current state in the matrix\n",
    "            event = np.random.binomial(1, p_success)\n",
    "            # 1: sale, 0: no sale\n",
    "            if event == 1:\n",
    "                sales += 1\n",
    "                if state != 9:\n",
    "                    state += 1\n",
    "            else:\n",
    "                state -= 1\n",
    "    simulations_good[i] = sales\n",
    "    \n",
    "fig = plt.figure(figsize=(25,8))\n",
    "ax1 = fig.add_subplot(121)\n",
    "ax2 = fig.add_subplot(122)\n",
    "\n",
    "ax1.hist(simulations_bad, color = 'm')\n",
    "ax1.grid(axis='y', alpha=0.75)\n",
    "ax1.set_xlabel('Carpets sold')\n",
    "ax1.set_ylabel('Occurence of the amount of carpets sold')\n",
    "ax1.set_ylim(0,1000)\n",
    "ax1.set_title('BAD mood, starting state = 3')\n",
    "\n",
    "ax2.hist(simulations_good, color = 'c')\n",
    "ax2.grid(axis='y', alpha=0.75)\n",
    "ax2.set_xlabel('Carpets sold')\n",
    "ax2.set_ylabel('Occurence of the amount of carpets sold')\n",
    "ax2.set_ylim(0,1000)\n",
    "ax2.set_title('GOOD mood, starting state = 5')\n",
    "\n",
    "print(\"The average number of carpets the salesman can sale in time t = {} when he leaves home in a bad mood is {}.\".format(t, np.mean(simulations_bad)))\n",
    "print(\"When he leaves home in a good mood, the average number of carpets sold in same amount of time is {}.\\n\\n\".format(np.mean(simulations_good)))\n"
   ]
  },
  {
   "cell_type": "markdown",
   "metadata": {},
   "source": [
    "From the histograms and the means it is clear to see that it matters a lot to the amount of sales succeeded whether the sales man left home in a bad or in a good mood."
   ]
  },
  {
   "attachments": {
    "c34ab520-1338-4c40-b54e-96f7e1b32b93.png": {
     "image/png": "[encoded data removed]"
    },
    "fe93416c-7841-441e-84e7-4cf7d12ddd98.png": {
     "image/png": "[encoded data removed]"
    }
   },
   "cell_type": "markdown",
   "metadata": {},
   "source": [
    "## Exercise 2\n",
    "------------------\n",
    "(3 p) Let’s take the Poisson process to describe radioactive decay. The number of nuclei is\n",
    "initially $N_0= 10000$. The nuclei decay (fission) at rate $\\lambda = 0.2$ per second. We want to\n",
    "determine the half-time $t_{1/2}$, that is, the time it takes on average for the number of nuclei\n",
    "to decay to $N(t) = \\frac{N_0}{2}$. You can do this simulation in two ways, the first of which is what\n",
    "a statistician would do and that is presented in Lecture 3. There is an alternative way based\n",
    "by simulating the stochastic process in time steps, which is what for example a physicist\n",
    "would do. In this second way you should first run simulations to find appropriate time\n",
    "interval (time step) but let’s pretend you have already done this and found that\n",
    "$\\Delta t$ = 0.01 s. By either simulation, determine the mean and variance for $t_{1/2}$ that you get\n",
    "by averaging over 100 simulations.\n",
    "\n",
    "(Just to make sure: you only need to implement and simulate in one way.\n",
    "In addition, needless to say, write the algorithms for the Poisson process, that is, don’t\n",
    "use some all- inclusive black-box library function.)\n",
    "\n",
    "\n",
    "https://mathcs.clarku.edu/~djoyce/ma217/poisson.pdf\n",
    "![image.png](attachment:c34ab520-1338-4c40-b54e-96f7e1b32b93.png)\n",
    "\n",
    "\n",
    "https://courses.lumenlearning.com/boundless-chemistry/chapter/radioactivity/\n",
    "![image.png](attachment:fe93416c-7841-441e-84e7-4cf7d12ddd98.png)"
   ]
  },
  {
   "cell_type": "code",
   "execution_count": 2,
   "metadata": {},
   "outputs": [
    {
     "name": "stdout",
     "output_type": "stream",
     "text": [
      "The expected half-life is equal to 3.465735902799726.\n",
      "Over 100 simulations, we got mean = 3.4654554123940393 and variance = 0.0025201779615587165.\n"
     ]
    }
   ],
   "source": [
    "import numpy as np\n",
    "\n",
    "# The half-life should be around...\n",
    "lam = 0.2\n",
    "print(\"The expected half-life is equal to {}.\".format(np.log(2)/lam))\n",
    "\n",
    "# CALCULATE HALF-TIME MEAN AND VARIANCE IN 100 SIMULATIONS\n",
    "\n",
    "N0 = 10000\n",
    "simulations = 100\n",
    "Nt = N0 / 2\n",
    "\n",
    "# The exponential distribution specifies the time until the next event.\n",
    "# t ~ Exp(lambda)\n",
    "\n",
    "# Repeat the process for 100 simulations.\n",
    "X = []\n",
    "for i in range(simulations):\n",
    "    N = N0\n",
    "    t = 0\n",
    "    # Repeat the process until N = 5000\n",
    "    while N > Nt:\n",
    "        # Draw the time it takes to reduce N by one from an exponential distribution\n",
    "        t += np.random.exponential( scale = 1 / (N * lam) )\n",
    "        # Reduce number of nuclei by one\n",
    "        N -= 1\n",
    "    \n",
    "    # Add the time to a vector X\n",
    "    X.append(t)\n",
    "\n",
    "# Take mean and variance over 100 simulation made\n",
    "mean, var = np.mean(X), np.var(X)\n",
    "\n",
    "print(\"Over 100 simulations, we got mean = {} and variance = {}.\".format(mean, var))"
   ]
  },
  {
   "cell_type": "code",
   "execution_count": null,
   "metadata": {},
   "outputs": [],
   "source": []
  }
 ],
 "metadata": {
  "kernelspec": {
   "display_name": "Python 3",
   "language": "python",
   "name": "python3"
  },
  "language_info": {
   "codemirror_mode": {
    "name": "ipython",
    "version": 3
   },
   "file_extension": ".py",
   "mimetype": "text/x-python",
   "name": "python",
   "nbconvert_exporter": "python",
   "pygments_lexer": "ipython3",
   "version": "3.8.3"
  }
 },
 "nbformat": 4,
 "nbformat_minor": 4
}
